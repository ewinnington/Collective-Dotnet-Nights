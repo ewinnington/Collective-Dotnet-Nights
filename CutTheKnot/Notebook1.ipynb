{
  "cells": [
    {
      "cell_type": "code",
      "execution_count": null,
      "metadata": {
        "dotnet_interactive": {
          "language": "csharp"
        },
        "vscode": {
          "languageId": "csharp"
        }
      },
      "outputs": [],
      "source": [
        "#r \"nuget: System.Net.Http\""
      ]
    },
    {
      "cell_type": "code",
      "execution_count": null,
      "metadata": {
        "dotnet_interactive": {
          "language": "csharp"
        },
        "vscode": {
          "languageId": "csharp"
        }
      },
      "outputs": [],
      "source": [
        "using System.Text;\n",
        "using System.Net.Http;\n",
        "using System.Net.Http.Headers;\n",
        "\n",
        "var httpClient = new HttpClient();\n",
        "var uri = new Uri(\"https://localhost:7289/\");"
      ]
    },
    {
      "cell_type": "code",
      "execution_count": null,
      "metadata": {
        "dotnet_interactive": {
          "language": "csharp"
        },
        "vscode": {
          "languageId": "csharp"
        }
      },
      "outputs": [],
      "source": [
        "var tokenMessage = await httpClient.PostAsync(uri + \"authenticate/\", \n",
        "    new StringContent(\"{\\\"username\\\":\\\"app1\\\", \\\"token\\\":\\\"7365cnnsb-bvckdh\\\"}\", Encoding.UTF8, \"application/json\"));\n",
        "\n",
        "if (!tokenMessage.IsSuccessStatusCode) {\n",
        "    Console.WriteLine(tokenMessage);\n",
        "    return;\n",
        "}\n",
        "\n",
        "var token = await tokenMessage.Content.ReadAsStringAsync();\n",
        "\n",
        "tokenMessage"
      ]
    },
    {
      "cell_type": "code",
      "execution_count": null,
      "metadata": {
        "vscode": {
          "languageId": "csharp"
        }
      },
      "outputs": [],
      "source": [
        "var failedAuth = await httpClient.GetAsync(uri + \"validate/\");\n",
        "\n",
        "failedAuth"
      ]
    },
    {
      "cell_type": "code",
      "execution_count": null,
      "metadata": {
        "vscode": {
          "languageId": "csharp"
        }
      },
      "outputs": [],
      "source": [
        "var requestMessage = new HttpRequestMessage(HttpMethod.Get, uri + \"validate/\");\n",
        "requestMessage.Headers.Authorization = new AuthenticationHeaderValue(\"Bearer\", token);\n",
        "\n",
        "var response = await httpClient.SendAsync(requestMessage);\n",
        "response"
      ]
    }
  ],
  "metadata": {
    "kernelspec": {
      "display_name": ".NET (C#)",
      "language": "C#",
      "name": ".net-csharp"
    },
    "language_info": {
      "file_extension": ".cs",
      "mimetype": "text/x-csharp",
      "name": "C#",
      "pygments_lexer": "csharp",
      "version": "10.0"
    }
  },
  "nbformat": 4,
  "nbformat_minor": 4
}
